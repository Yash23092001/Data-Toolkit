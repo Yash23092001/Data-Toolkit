{
  "nbformat": 4,
  "nbformat_minor": 0,
  "metadata": {
    "colab": {
      "provenance": []
    },
    "kernelspec": {
      "name": "python3",
      "display_name": "Python 3"
    },
    "language_info": {
      "name": "python"
    }
  },
  "cells": [
    {
      "cell_type": "markdown",
      "source": [
        "#Data Toolkit assignment"
      ],
      "metadata": {
        "id": "sPmc29hilWvG"
      }
    },
    {
      "cell_type": "markdown",
      "source": [
        "1.What is NumPy, and why is it widely used in Python?\n",
        "  - NumPy is a powerful Python library used for numerical and scientific computing. It provides fast and memory-efficient support for large, multi-dimensional arrays through its core object called ndarray. Unlike regular Python lists, NumPy arrays allow for vectorized operations, which means operations can be applied to entire arrays without writing loops, making the code faster and cleaner. Internally, NumPy is written in C, which significantly boosts performance. It also includes a wide range of mathematical functions like linear algebra, statistics, and Fourier transforms. NumPy is widely used in data science, machine learning, and scientific research. Its arrays use less memory and are more efficient than native Python data structures. The library integrates smoothly with other popular tools like Pandas, TensorFlow, and scikit-learn. Because of its speed, efficiency, and ease of use, NumPy has become a foundational library in the Python ecosystem."
      ],
      "metadata": {
        "id": "l1u4V0LjldMz"
      }
    },
    {
      "cell_type": "markdown",
      "source": [
        "2. How does broadcasting work in NumPy?\n",
        "\n",
        " - Broadcasting in NumPy is a powerful feature that allows arrays with  \n",
        "   different shapes to be used together in arithmetic operations without explicitly replicating data.\n",
        "\n",
        "   When NumPy performs operations like addition or multiplication on arrays of different shapes, it tries to \"broadcast\" the smaller array across the larger one so they behave as if they had the same shape.\n",
        "\n",
        "   Here's how it works:\n",
        "  NumPy compares array shapes element-wise from right to left.\n",
        "\n",
        "  Two dimensions are compatible if:\n",
        "\n",
        "   They are equal, or\n",
        "\n",
        "   One of them is 1.\n",
        "\n",
        "   If compatibility rules are satisfied, NumPy virtually stretches the smaller array across the larger one.\n",
        "\n",
        "  No actual copying is done — it’s optimized and memory-efficient."
      ],
      "metadata": {
        "id": "0k1LSBVmmLUI"
      }
    },
    {
      "cell_type": "markdown",
      "source": [
        "3.What is a Pandas DataFrame?\n",
        " - A Pandas DataFrame is a two-dimensional, size-mutable, and heterogeneous data structure in Python that is used for storing and manipulating tabular data, similar to an Excel spreadsheet or a SQL table. It consists of rows and columns, where each column can hold data of different types (e.g., integers, floats, strings). The DataFrame is one of the core data structures in the Pandas library and is widely used in data analysis and data science tasks. It provides powerful tools for filtering, sorting, grouping, aggregating, and cleaning data. You can create a DataFrame from various data sources such as lists, dictionaries, NumPy arrays, or external files like CSV and Excel. With labeled axes (row and column labels), DataFrames make it easy to work with real-world data and perform complex operations efficiently."
      ],
      "metadata": {
        "id": "Bbxt90Y8m0jH"
      }
    },
    {
      "cell_type": "markdown",
      "source": [
        "4.Explain the use of the groupby() method in Pandas?\n",
        " - The groupby() method in Pandas is used to split data into groups based on one or more columns and then perform operations on each group independently. It is commonly used for data aggregation, summarization, and analysis. When you apply groupby(), Pandas internally divides the DataFrame into subsets where each subset shares the same value(s) in the specified column(s). You can then apply functions like sum(), mean(), count(), or even custom functions to each group to get meaningful insights. For example, you might group sales data by region and calculate the total sales per region. This method follows a “split-apply-combine” strategy: it splits the data, applies a function, and combines the results back into a DataFrame or Series. It's a powerful tool for analyzing and transforming structured data in a flexible and efficient way."
      ],
      "metadata": {
        "id": "eqmBohEHm_ce"
      }
    },
    {
      "cell_type": "markdown",
      "source": [
        "5.Why is Seaborn preferred for statistical visualizations?\n",
        " - Seaborn is preferred for statistical visualizations in Python because it provides a high-level interface for creating attractive and informative charts with minimal code. Built on top of Matplotlib, Seaborn simplifies the process of visualizing complex datasets by offering built-in support for common statistical tasks like regression plots, distribution plots, and categorical plots. It works seamlessly with Pandas DataFrames, making it easy to pass in structured data and generate plots that automatically include meaningful axis labels and legends. Seaborn also comes with aesthetically pleasing default themes and color palettes, helping users create professional-looking visualizations with ease. Its ability to handle multi-variable relationships, apply aggregation functions, and support faceting for comparing subsets of data makes it a go-to choice for data analysts and scientists aiming to explore patterns, trends, and correlations in their datasets"
      ],
      "metadata": {
        "id": "OduF_20tnLbf"
      }
    },
    {
      "cell_type": "markdown",
      "source": [
        "6. What are the differences between NumPy arrays and Python lists?\n",
        " - NumPy arrays and Python lists are both used to store collections of data,  \n",
        "   but they differ significantly in terms of functionality, performance, and use cases.\n",
        "\n",
        "   NumPy arrays are specifically designed for numerical and scientific computing. They support homogeneous data types, meaning all elements in the array must be of the same type. This uniformity allows NumPy to perform operations much faster and more efficiently than Python lists, especially for large datasets. NumPy arrays also support advanced mathematical operations, broadcasting, and multidimensional structures.\n",
        "\n",
        "   On the other hand, Python lists are more general-purpose and can store heterogeneous data, such as a mix of integers, strings, or even other lists. However, they are slower for numerical computations and do not support element-wise operations or vectorized calculations like NumPy arrays do.\n",
        "\n",
        "   In short, while Python lists are more flexible and better for general programming tasks, NumPy arrays are preferred for performance-critical, large-scale numerical data processing."
      ],
      "metadata": {
        "id": "Ckl2iMIonV8G"
      }
    },
    {
      "cell_type": "markdown",
      "source": [
        "7.What is a heatmap, and when should it be used?\n",
        "  - A heatmap is a data visualization technique that uses color shades to represent values in a matrix or 2D grid format. Each cell in the heatmap displays a color intensity based on its corresponding data value, making it easy to spot patterns, trends, and outliers at a glance. Heatmaps are especially useful when comparing correlations, frequencies, or intensities across multiple variables or categories.\n",
        "\n",
        "  They are commonly used in statistical analysis to show correlation matrices, in machine learning to visualize confusion matrices, and in business analytics to display metrics like website traffic, sales performance, or customer engagement across different regions or time periods. You should use a heatmap when you want to quickly understand how values are distributed across a dataset and when color-coded insights can help reveal relationships that might be hard to see in raw numbers."
      ],
      "metadata": {
        "id": "2tFyocATnorI"
      }
    },
    {
      "cell_type": "markdown",
      "source": [
        "8.What does the term “vectorized operation” mean in NumPy?\n",
        "  - In NumPy, a vectorized operation allows you to perform operations on entire arrays element-wise without using explicit loops. Instead of iterating over each element, NumPy applies the operation to the whole array using highly optimized C code under the hood. This leads to significant performance improvements, making code faster and more efficient. For instance, when adding two arrays, you can simply use a + b rather than looping through each element manually. Vectorized operations work on arrays of different shapes through broadcasting, further enhancing flexibility. This approach reduces the need for complex iteration and simplifies the code. The result is concise, readable, and highly optimized for large-scale numerical computations. As a result, NumPy's vectorized operations are essential for high-performance data analysis and scientific computing."
      ],
      "metadata": {
        "id": "6bcg9bLHnzn-"
      }
    },
    {
      "cell_type": "markdown",
      "source": [
        "9. How does Matplotlib differ from Plotly?\n",
        "  - Matplotlib and Plotly are both popular Python libraries for creating visualizations, but they differ in several key ways. Matplotlib is primarily used for static visualizations such as line charts, bar graphs, and histograms. It offers extensive customization options, allowing users to adjust every aspect of a plot, but it requires more code and can be complex for advanced customizations. It produces static images like PNG, SVG, and PDF, making it ideal for publication-quality graphics. On the other hand, Plotly is designed for creating interactive visualizations. With Plotly, users can create plots that allow for zooming, panning, and hovering over data points to reveal additional details. This makes Plotly especially useful for dynamic, web-based applications and dashboards. Plotly is more user-friendly, offering simpler syntax for creating interactive and visually appealing charts. It supports output as HTML files that can be easily embedded in web pages. Additionally, Plotly integrates well with Dash, a web framework for building data applications. While Matplotlib is great for detailed, static plots typically used in academic and professional settings, Plotly shines in environments where interactivity and ease of use are critical, making it suitable for data exploration and presentation in web applications."
      ],
      "metadata": {
        "id": "57hDimo3n_2f"
      }
    },
    {
      "cell_type": "markdown",
      "source": [
        "10.What is the significance of hierarchical indexing in Pandas?\n",
        "  - Hierarchical indexing in Pandas allows you to work with multi-level (or multi-dimensional) data in a way that is both intuitive and powerful. It enables the creation of multi-index structures, where each axis (rows or columns) can have multiple levels of labels, providing a more organized and flexible way to manage complex datasets. This is particularly useful when you have data that can be categorized into multiple dimensions, such as time series data with different levels of granularity (e.g., year, month, day) or data categorized by multiple factors (e.g., region, product, and sales).\n",
        "\n",
        "The significance of hierarchical indexing includes:\n",
        "\n",
        "Efficient data manipulation: It allows for easy selection, slicing, and aggregation of data across different levels of the index, enabling more granular data analysis.\n",
        "\n",
        "Complex datasets: It helps manage datasets with multiple categories or dimensions, such as financial data with different time periods or scientific data with different experimental conditions.\n",
        "\n",
        "Simplified data operations: Operations like grouping, pivoting, and reshaping become easier, as you can directly manipulate data across multiple levels of indexing.\n",
        "\n",
        "Better organization: Hierarchical indexing gives your data structure a clear hierarchy, making it easier to perform analyses on specific subsets of data.\n",
        "\n",
        "In short, hierarchical indexing in Pandas provides a powerful tool for managing and analyzing complex, multi-dimensional data, enhancing the efficiency and flexibility of data manipulation tasks."
      ],
      "metadata": {
        "id": "rCLR7_KmoRl6"
      }
    },
    {
      "cell_type": "markdown",
      "source": [
        "11.What is the role of Seaborn’s pairplot() function?\n",
        "  - Seaborn's pairplot() function is a powerful tool used for visualizing pairwise relationships in a dataset, especially when working with multiple variables. It creates a matrix of scatter plots (and optionally histograms or KDE plots) that show the relationships between each pair of variables in a DataFrame. Each plot in the matrix helps in identifying patterns, trends, and correlations between the variables.\n",
        "\n",
        "The role of the pairplot() function includes:\n",
        "\n",
        "Pairwise comparisons: It automatically generates scatter plots for each pair of numerical columns in a dataset, helping to visually explore the relationships between variables.\n",
        "\n",
        "Diagonal plots: On the diagonal, it typically shows univariate distributions (like histograms or kernel density estimates) of each individual variable, providing insights into their distributions.\n",
        "\n",
        "Color-coding: The pairplot() function can color the plots based on a categorical variable, allowing for better understanding of how different categories relate to the numerical features.\n",
        "\n",
        "Correlation detection: It helps quickly identify potential correlations or patterns in the data by showing how variables interact with each other, which is useful for exploratory data analysis (EDA).\n",
        "\n",
        "Customizability: You can customize the function with different plot types, colors, and markers, making it a versatile tool for data exploration.\n",
        "\n",
        "In summary, pairplot() is an excellent function for performing exploratory data analysis (EDA), helping to visualize relationships, distributions, and trends across multiple variables in a dataset"
      ],
      "metadata": {
        "id": "mHABrkHBoeNc"
      }
    },
    {
      "cell_type": "markdown",
      "source": [
        "12.What is the purpose of the describe() function in Pandas?\n",
        "  - The describe() function in Pandas is used to generate summary statistics of a DataFrame or Series, providing a quick overview of the numerical (and optionally categorical) data. It helps you understand the distribution and key characteristics of the dataset without needing to manually compute individual statistics.\n",
        "\n",
        "When applied to a DataFrame, describe() provides the following summary statistics for numerical columns by default:\n",
        "\n",
        "Count: The number of non-null entries.\n",
        "\n",
        "Mean: The average value of the data.\n",
        "\n",
        "Standard Deviation: A measure of the data's spread.\n",
        "\n",
        "Minimum: The smallest value.\n",
        "\n",
        "25th Percentile (Q1): The value below which 25% of the data falls.\n",
        "\n",
        "50th Percentile (Median or Q2): The middle value of the data.\n",
        "\n",
        "75th Percentile (Q3): The value below which 75% of the data falls.\n",
        "\n",
        "Maximum: The largest value.\n",
        "\n",
        "For categorical columns, it can provide counts, unique values, top (most frequent) value, and frequency of the top value.\n",
        "\n",
        "The describe() function is highly useful for exploratory data analysis (EDA) as it quickly summarizes the key properties of the dataset, helping you identify any outliers, skewness, or patterns in the data."
      ],
      "metadata": {
        "id": "kouRB6GLooPs"
      }
    },
    {
      "cell_type": "markdown",
      "source": [
        "13.Why is handling missing data important in Pandas?\n",
        "  - Handling missing data is crucial in Pandas (and data analysis in general) because missing or incomplete data can significantly affect the quality and accuracy of your analysis. Here are several reasons why it's important:\n",
        "\n",
        "  Accuracy of Analysis: Missing data can lead to biased results, incorrect conclusions, or distorted relationships between variables. If you don’t handle missing data properly, statistical models or data visualizations may yield misleading results.\n",
        "\n",
        "  Model Performance: Machine learning algorithms typically require clean, complete datasets. Most algorithms cannot handle missing values directly and will either fail or produce poor performance if missing data is not handled appropriately.\n",
        "\n",
        "  Data Integrity: Handling missing data helps maintain the integrity of your dataset, ensuring that the analysis is based on accurate and complete information. It also prevents issues such as errors during data processing or aggregation.\n",
        "\n",
        "  Data Consistency: Inconsistent handling of missing data across different parts of the dataset can lead to inconsistencies in the results. Standardizing how missing data is treated ensures a uniform approach to data cleaning.\n",
        "\n",
        "  Preventing Loss of Information: In some cases, missing data may not be random and could carry valuable information. Imputing missing values or properly analyzing missingness patterns can help retain useful insights that would otherwise be lost."
      ],
      "metadata": {
        "id": "rB1XNO2Koz5T"
      }
    },
    {
      "cell_type": "markdown",
      "source": [
        "14. What are the benefits of using Plotly for data visualization?\n",
        "  - Plotly offers several benefits for data visualization, making it a popular choice for both beginners and advanced users:\n",
        "\n",
        "   Interactivity: Plotly is designed for creating interactive visualizations. Users can zoom, pan, hover over data points to view additional details, and even toggle between different views, making it ideal for dynamic and engaging data exploration.\n",
        "\n",
        "   Ease of Use: Plotly provides a simple and user-friendly API for creating complex visualizations with minimal code. The syntax is intuitive, allowing users to quickly generate professional-looking charts without a steep learning curve.\n",
        "\n",
        "   Variety of Visualizations: Plotly supports a wide range of visualizations, from basic charts like bar, line, and scatter plots to more advanced charts like 3D plots, heatmaps, contour plots, and geographical maps.\n",
        "\n",
        "   High-Quality Visuals: Plotly generates aesthetic and polished visuals that can be easily embedded in websites, applications, or presentations. The plots are highly customizable, allowing fine-tuning of colors, themes, and styles.\n",
        "\n",
        "   Integration with Web Applications: Plotly integrates seamlessly with web development frameworks like Dash for building interactive data dashboards and applications, making it a great tool for real-time data visualization."
      ],
      "metadata": {
        "id": "rXFOyr8lpF0H"
      }
    },
    {
      "cell_type": "markdown",
      "source": [
        "15.How does NumPy handle multidimensional arrays?\n",
        "  - NumPy handles multidimensional arrays using its core object, the ndarray (N-dimensional array), which is designed to efficiently store and manipulate large datasets with more than one dimension.\n",
        "\n",
        "  Here's how NumPy works with multidimensional arrays:\n",
        "\n",
        "  Array Structure: A multidimensional array is essentially an array of arrays. For example, a 2D array is like a matrix, where each element is indexed by two values (row and column). Similarly, a 3D array can be thought of as a stack of matrices, and so on for higher dimensions.\n",
        "\n",
        "   Shape and Size: The shape of a NumPy array is a tuple that defines the number of elements along each axis. For example, an array with shape (3, 4) represents a 2D array with 3 rows and 4 columns. The size is the total number of elements in the array, which can be easily retrieved using the .size attribute.\n",
        "\n",
        "   Indexing: Multidimensional arrays in NumPy support multi-dimensional indexing. You can access elements in a 2D array using two indices: array[row, column]. For higher-dimensional arrays, more indices are used, such as array[depth, row, column] for 3D arrays.\n",
        "\n",
        "   Broadcasting: NumPy supports broadcasting for operations on arrays of different shapes. This allows for element-wise operations on arrays with different dimensions, by \"stretching\" the smaller array to match the shape of the larger array, without actually copying data.\n",
        "\n",
        "   Efficient Memory Management: NumPy stores multidimensional arrays in contiguous blocks of memory, which ensures fast access to elements and optimizes memory usage. This is especially important when working with large datasets."
      ],
      "metadata": {
        "id": "yz5Q4dWWpV_j"
      }
    },
    {
      "cell_type": "markdown",
      "source": [
        "16.What is the role of Bokeh in data visualization?\n",
        "  - Bokeh is a powerful Python library used for creating interactive visualizations and dashboards. Its main role in data visualization is to allow users to build highly interactive, web-ready plots that can be embedded into websites or applications. Unlike static visualization libraries like Matplotlib, Bokeh specializes in generating dynamic visualizations that users can engage with through features like zooming, panning, and hovering over data points to reveal additional information. It supports a wide variety of visualizations such as line plots, bar charts, scatter plots, heatmaps, and even geographical maps. One of Bokeh’s key strengths is its ability to handle large datasets efficiently, providing real-time interactivity without compromising on performance. Additionally, Bokeh integrates seamlessly with other web technologies, such as JavaScript and HTML, making it ideal for building interactive dashboards and web applications. With its ability to combine rich interactivity and aesthetic appeal, Bokeh is an excellent choice for users looking to present data in a more engaging and insightful manner."
      ],
      "metadata": {
        "id": "8rsxF7M3pm23"
      }
    },
    {
      "cell_type": "markdown",
      "source": [
        "17. Explain the difference between apply() and map() in Pandas?\n",
        " - In Pandas, both apply() and map() are used to apply functions, but they differ in usage and flexibility. The apply() function is versatile and can be used on both DataFrames and Series. When applied to a DataFrame, it can operate across rows (axis=1) or columns (axis=0), allowing for complex operations like aggregations or transformations. On a Series, it performs element-wise transformations similar to map(), but it is more flexible, as it can return scalar values or more complex structures like lists or dictionaries. In contrast, map() is specifically designed for Series and is typically used for simple element-wise transformations or replacements, often with dictionaries, functions, or mapping values. It is most commonly used to substitute or transform values in a Series based on a dictionary or a function. While map() is more efficient for basic transformations and can be faster, apply() provides more control, allowing for operations across multiple axes and more complex functions. Thus, apply() is ideal for tasks requiring more customization or operations beyond simple mapping, while map() is best suited for straightforward element-wise operations."
      ],
      "metadata": {
        "id": "jfYjuXDhpxpF"
      }
    },
    {
      "cell_type": "markdown",
      "source": [
        "18.What are some advanced features of NumPy?\n",
        " - NumPy offers several advanced features that make it a powerful library for numerical computing and data analysis. These features enhance performance, flexibility, and the ability to handle complex data structures. Some of the notable advanced features include:\n",
        "\n",
        "  Broadcasting: NumPy allows operations between arrays of different shapes by automatically adjusting the smaller array to match the dimensions of the larger array. This enables element-wise operations without explicitly reshaping the arrays.\n",
        "\n",
        "  Advanced Indexing: NumPy supports advanced indexing techniques like boolean indexing, fancy indexing, and integer indexing. These techniques allow for more flexible selection and manipulation of array elements, including conditional selection and random sampling.\n",
        "\n",
        "  Universal Functions (ufuncs): NumPy includes a set of universal functions (ufuncs) that perform element-wise operations on arrays. These functions are highly optimized for speed and work with arrays of any shape, allowing for efficient mathematical operations.\n",
        "\n",
        "  Linear Algebra Functions: NumPy provides a comprehensive set of linear algebra functions, such as matrix multiplication (np.matmul), solving linear equations (np.linalg.solve), eigenvalue decomposition (np.linalg.eig), and matrix decomposition (np.linalg.svd), which are essential for scientific and engineering applications.\n",
        "\n",
        "  Random Module: The numpy.random module offers powerful tools for generating random numbers and distributions, including random sampling, shuffling, and generating random matrices with various statistical distributions like normal, binomial, and Poisson."
      ],
      "metadata": {
        "id": "hSln8FzcqBNJ"
      }
    },
    {
      "cell_type": "markdown",
      "source": [
        "19.How does Pandas simplify time series analysis?\n",
        " - Pandas simplifies time series analysis by providing a robust set of tools that streamline the handling, manipulation, and analysis of time-based data. It offers the DatetimeIndex functionality, which allows for easy conversion and manipulation of date and time data, making it possible to work with time series data seamlessly. With Pandas, you can easily perform tasks such as resampling, which enables the aggregation of data at different frequencies (e.g., converting daily data to monthly or yearly summaries). It also supports time shifting, allowing for lagging or leading data points in time series, which is useful for analyzing trends or calculating rolling statistics. Additionally, date-based indexing enables efficient slicing and filtering, allowing users to access data for specific periods, such as extracting data for a particular year, month, or day. Pandas also provides functions for handling missing data, which is common in time series, by offering options like forward or backward filling. The integration with rolling windows helps to compute moving averages or other window-based calculations easily. Overall, Pandas provides a rich set of features that simplify the process of working with time series data, making it much easier to analyze, visualize, and model temporal patterns and trends.\n",
        "\n",
        "\n",
        "\n",
        "\n",
        "\n",
        "\n",
        "\n",
        "\n"
      ],
      "metadata": {
        "id": "cwnwk3hzqQJ9"
      }
    },
    {
      "cell_type": "markdown",
      "source": [
        "20.What is the role of a pivot table in Pandas?\n",
        " - A pivot table in Pandas is a powerful tool used for data summarization and aggregation. It allows you to transform long-format data into a more organized, tabular format, making it easier to analyze and extract insights. By specifying one or more index columns, columns, and values, a pivot table enables the grouping of data and the calculation of aggregate metrics, such as sums, averages, or counts, for each combination of the index and columns. This provides a compact, easy-to-read summary of complex datasets, making it ideal for exploring relationships between different variables. For instance, you can quickly calculate the total sales for each product across various regions or analyze average monthly temperatures by year. The pivot_table() function in Pandas offers a high degree of flexibility, allowing users to apply different aggregation functions (like mean, sum, or count) and handle missing values effectively. It is especially useful in exploratory data analysis (EDA) when dealing with large datasets, as it provides an intuitive way to pivot data for better interpretation and decision-making.\n",
        "\n",
        "\n",
        "\n",
        "\n",
        "\n",
        "\n",
        "\n",
        "\n"
      ],
      "metadata": {
        "id": "Em-YdRhzqf4b"
      }
    },
    {
      "cell_type": "markdown",
      "source": [
        "#practical questions-answers"
      ],
      "metadata": {
        "id": "6CBaHqmAqqLi"
      }
    },
    {
      "cell_type": "code",
      "source": [
        "# 1.How do you create a 2D NumPy array and calculate the sum of each row?\n",
        "import numpy as np\n",
        "\n",
        "# Step 1: Create a 2D NumPy array\n",
        "arr = np.array([[1, 2, 3],\n",
        "                [4, 5, 6],\n",
        "                [7, 8, 9]])\n",
        "\n",
        "# Step 2: Calculate the sum of each row (axis=1 for row-wise sum)\n",
        "row_sums = np.sum(arr, axis=1)\n",
        "\n",
        "# Display the result\n",
        "print(\"Sum of each row:\", row_sums)\n"
      ],
      "metadata": {
        "colab": {
          "base_uri": "https://localhost:8080/"
        },
        "id": "UaD7rhK-q17A",
        "outputId": "f84f062c-f9cd-4fe7-cac1-3ac9604000c9"
      },
      "execution_count": 1,
      "outputs": [
        {
          "output_type": "stream",
          "name": "stdout",
          "text": [
            "Sum of each row: [ 6 15 24]\n"
          ]
        }
      ]
    },
    {
      "cell_type": "code",
      "source": [
        "#2.Write a Pandas script to find the mean of a specific column in a DataFrame?\n",
        "import pandas as pd\n",
        "\n",
        "# Sample DataFrame\n",
        "data = {\n",
        "    'Name': ['Alice', 'Bob', 'Charlie', 'David'],\n",
        "    'Age': [25, 30, 35, 40],\n",
        "    'Salary': [50000, 60000, 70000, 80000]\n",
        "}\n",
        "\n",
        "# Create the DataFrame\n",
        "df = pd.DataFrame(data)\n",
        "\n",
        "# Find the mean of the 'Age' column\n",
        "mean_age = df['Age'].mean()\n",
        "\n",
        "# Display the result\n",
        "print(\"Mean of the 'Age' column:\", mean_age)\n"
      ],
      "metadata": {
        "colab": {
          "base_uri": "https://localhost:8080/"
        },
        "id": "6dX2JtgLrHXc",
        "outputId": "1bc3079d-421f-4ded-c86b-0b3f91b468fd"
      },
      "execution_count": 2,
      "outputs": [
        {
          "output_type": "stream",
          "name": "stdout",
          "text": [
            "Mean of the 'Age' column: 32.5\n"
          ]
        }
      ]
    },
    {
      "cell_type": "code",
      "source": [
        "#3.Create a scatter plot using Matplotlib?\n",
        "import matplotlib.pyplot as plt\n",
        "\n",
        "# Sample data\n",
        "x = [1, 2, 3, 4, 5]\n",
        "y = [2, 3, 5, 7, 11]\n",
        "\n",
        "# Create a scatter plot\n",
        "plt.scatter(x, y)\n",
        "\n",
        "# Adding labels and title\n",
        "plt.xlabel('X-axis Label')\n",
        "plt.ylabel('Y-axis Label')\n",
        "plt.title('Scatter Plot Example')\n",
        "\n",
        "# Show the plot\n",
        "plt.show()\n"
      ],
      "metadata": {
        "colab": {
          "base_uri": "https://localhost:8080/",
          "height": 472
        },
        "id": "Bz3qhKPVrU65",
        "outputId": "3fdcaf85-ee5c-453e-fb06-66d6705b2430"
      },
      "execution_count": 3,
      "outputs": [
        {
          "output_type": "display_data",
          "data": {
            "text/plain": [
              "<Figure size 640x480 with 1 Axes>"
            ],
            "image/png": "[encoded data removed]"
          },
          "metadata": {}
        }
      ]
    },
    {
      "cell_type": "code",
      "source": [
        "#4.How do you calculate the correlation matrix using Seaborn and visualize it with a heatmap?\n",
        "import pandas as pd\n",
        "import seaborn as sns\n",
        "import matplotlib.pyplot as plt\n",
        "\n",
        "# Sample DataFrame\n",
        "data = {\n",
        "    'A': [1, 2, 3, 4, 5],\n",
        "    'B': [5, 4, 3, 2, 1],\n",
        "    'C': [2, 3, 4, 5, 6],\n",
        "    'D': [5, 6, 7, 8, 9]\n",
        "}\n",
        "\n",
        "# Create the DataFrame\n",
        "df = pd.DataFrame(data)\n",
        "\n",
        "# Step 1: Calculate the correlation matrix\n",
        "corr_matrix = df.corr()\n",
        "\n",
        "# Step 2: Create the heatmap using Seaborn\n",
        "plt.figure(figsize=(8, 6))  # Set the size of the heatmap\n",
        "sns.heatmap(corr_matrix, annot=True, cmap='coolwarm', fmt='.2f', cbar=True)\n",
        "\n",
        "# Step 3: Display the plot\n",
        "plt.title('Correlation Matrix Heatmap')\n",
        "plt.show()\n"
      ],
      "metadata": {
        "colab": {
          "base_uri": "https://localhost:8080/",
          "height": 545
        },
        "id": "njkO6KNire7w",
        "outputId": "a282a09d-a588-4be3-b033-bae33606a028"
      },
      "execution_count": 4,
      "outputs": [
        {
          "output_type": "display_data",
          "data": {
            "text/plain": [
              "<Figure size 800x600 with 2 Axes>"
            ],
            "image/png": "[encoded data removed]"
          },
          "metadata": {}
        }
      ]
    },
    {
      "cell_type": "code",
      "source": [
        "#5.Generate a bar plot using Plotly?\n",
        "import plotly.express as px\n",
        "\n",
        "# Sample data\n",
        "data = {\n",
        "    'Categories': ['A', 'B', 'C', 'D', 'E'],\n",
        "    'Values': [10, 15, 7, 25, 30]\n",
        "}\n",
        "\n",
        "# Create a bar plot using Plotly\n",
        "fig = px.bar(data, x='Categories', y='Values', title=\"Bar Plot Example\", labels={'Categories': 'Category', 'Values': 'Value'})\n",
        "\n",
        "# Show the plot\n",
        "fig.show()\n"
      ],
      "metadata": {
        "colab": {
          "base_uri": "https://localhost:8080/",
          "height": 542
        },
        "id": "nt7EuQxCroig",
        "outputId": "ac55a309-268a-4d9d-aaa1-7eed5f992a91"
      },
      "execution_count": 5,
      "outputs": [
        {
          "output_type": "display_data",
          "data": {
            "text/html": [
              "<html>\n",
              "<head><meta charset=\"utf-8\" /></head>\n",
              "<body>\n",
              "    <div>            <script src=\"https://cdnjs.cloudflare.com/ajax/libs/mathjax/2.7.5/MathJax.js?config=TeX-AMS-MML_SVG\"></script><script type=\"text/javascript\">if (window.MathJax && window.MathJax.Hub && window.MathJax.Hub.Config) {window.MathJax.Hub.Config({SVG: {font: \"STIX-Web\"}});}</script>                <script type=\"text/javascript\">window.PlotlyConfig = {MathJaxConfig: 'local'};</script>\n",
              "        <script charset=\"utf-8\" src=\"https://cdn.plot.ly/plotly-2.35.2.min.js\"></script>                <div id=\"c727394a-e904-477d-b5d5-772ff898eccf\" class=\"plotly-graph-div\" style=\"height:525px; width:100%;\"></div>            <script type=\"text/javascript\">                                    window.PLOTLYENV=window.PLOTLYENV || {};                                    if (document.getElementById(\"c727394a-e904-477d-b5d5-772ff898eccf\")) {                    Plotly.newPlot(                        \"c727394a-e904-477d-b5d5-772ff898eccf\",                        [{\"alignmentgroup\":\"True\",\"hovertemplate\":\"Category=%{x}\\u003cbr\\u003eValue=%{y}\\u003cextra\\u003e\\u003c\\u002fextra\\u003e\",\"legendgroup\":\"\",\"marker\":{\"color\":\"#636efa\",\"pattern\":{\"shape\":\"\"}},\"name\":\"\",\"offsetgroup\":\"\",\"orientation\":\"v\",\"showlegend\":false,\"textposition\":\"auto\",\"x\":[\"A\",\"B\",\"C\",\"D\",\"E\"],\"xaxis\":\"x\",\"y\":[10,15,7,25,30],\"yaxis\":\"y\",\"type\":\"bar\"}],                        {\"template\":{\"data\":{\"histogram2dcontour\":[{\"type\":\"histogram2dcontour\",\"colorbar\":{\"outlinewidth\":0,\"ticks\":\"\"},\"colorscale\":[[0.0,\"#0d0887\"],[0.1111111111111111,\"#46039f\"],[0.2222222222222222,\"#7201a8\"],[0.3333333333333333,\"#9c179e\"],[0.4444444444444444,\"#bd3786\"],[0.5555555555555556,\"#d8576b\"],[0.6666666666666666,\"#ed7953\"],[0.7777777777777778,\"#fb9f3a\"],[0.8888888888888888,\"#fdca26\"],[1.0,\"#f0f921\"]]}],\"choropleth\":[{\"type\":\"choropleth\",\"colorbar\":{\"outlinewidth\":0,\"ticks\":\"\"}}],\"histogram2d\":[{\"type\":\"histogram2d\",\"colorbar\":{\"outlinewidth\":0,\"ticks\":\"\"},\"colorscale\":[[0.0,\"#0d0887\"],[0.1111111111111111,\"#46039f\"],[0.2222222222222222,\"#7201a8\"],[0.3333333333333333,\"#9c179e\"],[0.4444444444444444,\"#bd3786\"],[0.5555555555555556,\"#d8576b\"],[0.6666666666666666,\"#ed7953\"],[0.7777777777777778,\"#fb9f3a\"],[0.8888888888888888,\"#fdca26\"],[1.0,\"#f0f921\"]]}],\"heatmap\":[{\"type\":\"heatmap\",\"colorbar\":{\"outlinewidth\":0,\"ticks\":\"\"},\"colorscale\":[[0.0,\"#0d0887\"],[0.1111111111111111,\"#46039f\"],[0.2222222222222222,\"#7201a8\"],[0.3333333333333333,\"#9c179e\"],[0.4444444444444444,\"#bd3786\"],[0.5555555555555556,\"#d8576b\"],[0.6666666666666666,\"#ed7953\"],[0.7777777777777778,\"#fb9f3a\"],[0.8888888888888888,\"#fdca26\"],[1.0,\"#f0f921\"]]}],\"heatmapgl\":[{\"type\":\"heatmapgl\",\"colorbar\":{\"outlinewidth\":0,\"ticks\":\"\"},\"colorscale\":[[0.0,\"#0d0887\"],[0.1111111111111111,\"#46039f\"],[0.2222222222222222,\"#7201a8\"],[0.3333333333333333,\"#9c179e\"],[0.4444444444444444,\"#bd3786\"],[0.5555555555555556,\"#d8576b\"],[0.6666666666666666,\"#ed7953\"],[0.7777777777777778,\"#fb9f3a\"],[0.8888888888888888,\"#fdca26\"],[1.0,\"#f0f921\"]]}],\"contourcarpet\":[{\"type\":\"contourcarpet\",\"colorbar\":{\"outlinewidth\":0,\"ticks\":\"\"}}],\"contour\":[{\"type\":\"contour\",\"colorbar\":{\"outlinewidth\":0,\"ticks\":\"\"},\"colorscale\":[[0.0,\"#0d0887\"],[0.1111111111111111,\"#46039f\"],[0.2222222222222222,\"#7201a8\"],[0.3333333333333333,\"#9c179e\"],[0.4444444444444444,\"#bd3786\"],[0.5555555555555556,\"#d8576b\"],[0.6666666666666666,\"#ed7953\"],[0.7777777777777778,\"#fb9f3a\"],[0.8888888888888888,\"#fdca26\"],[1.0,\"#f0f921\"]]}],\"surface\":[{\"type\":\"surface\",\"colorbar\":{\"outlinewidth\":0,\"ticks\":\"\"},\"colorscale\":[[0.0,\"#0d0887\"],[0.1111111111111111,\"#46039f\"],[0.2222222222222222,\"#7201a8\"],[0.3333333333333333,\"#9c179e\"],[0.4444444444444444,\"#bd3786\"],[0.5555555555555556,\"#d8576b\"],[0.6666666666666666,\"#ed7953\"],[0.7777777777777778,\"#fb9f3a\"],[0.8888888888888888,\"#fdca26\"],[1.0,\"#f0f921\"]]}],\"mesh3d\":[{\"type\":\"mesh3d\",\"colorbar\":{\"outlinewidth\":0,\"ticks\":\"\"}}],\"scatter\":[{\"fillpattern\":{\"fillmode\":\"overlay\",\"size\":10,\"solidity\":0.2},\"type\":\"scatter\"}],\"parcoords\":[{\"type\":\"parcoords\",\"line\":{\"colorbar\":{\"outlinewidth\":0,\"ticks\":\"\"}}}],\"scatterpolargl\":[{\"type\":\"scatterpolargl\",\"marker\":{\"colorbar\":{\"outlinewidth\":0,\"ticks\":\"\"}}}],\"bar\":[{\"error_x\":{\"color\":\"#2a3f5f\"},\"error_y\":{\"color\":\"#2a3f5f\"},\"marker\":{\"line\":{\"color\":\"#E5ECF6\",\"width\":0.5},\"pattern\":{\"fillmode\":\"overlay\",\"size\":10,\"solidity\":0.2}},\"type\":\"bar\"}],\"scattergeo\":[{\"type\":\"scattergeo\",\"marker\":{\"colorbar\":{\"outlinewidth\":0,\"ticks\":\"\"}}}],\"scatterpolar\":[{\"type\":\"scatterpolar\",\"marker\":{\"colorbar\":{\"outlinewidth\":0,\"ticks\":\"\"}}}],\"histogram\":[{\"marker\":{\"pattern\":{\"fillmode\":\"overlay\",\"size\":10,\"solidity\":0.2}},\"type\":\"histogram\"}],\"scattergl\":[{\"type\":\"scattergl\",\"marker\":{\"colorbar\":{\"outlinewidth\":0,\"ticks\":\"\"}}}],\"scatter3d\":[{\"type\":\"scatter3d\",\"line\":{\"colorbar\":{\"outlinewidth\":0,\"ticks\":\"\"}},\"marker\":{\"colorbar\":{\"outlinewidth\":0,\"ticks\":\"\"}}}],\"scattermapbox\":[{\"type\":\"scattermapbox\",\"marker\":{\"colorbar\":{\"outlinewidth\":0,\"ticks\":\"\"}}}],\"scatterternary\":[{\"type\":\"scatterternary\",\"marker\":{\"colorbar\":{\"outlinewidth\":0,\"ticks\":\"\"}}}],\"scattercarpet\":[{\"type\":\"scattercarpet\",\"marker\":{\"colorbar\":{\"outlinewidth\":0,\"ticks\":\"\"}}}],\"carpet\":[{\"aaxis\":{\"endlinecolor\":\"#2a3f5f\",\"gridcolor\":\"white\",\"linecolor\":\"white\",\"minorgridcolor\":\"white\",\"startlinecolor\":\"#2a3f5f\"},\"baxis\":{\"endlinecolor\":\"#2a3f5f\",\"gridcolor\":\"white\",\"linecolor\":\"white\",\"minorgridcolor\":\"white\",\"startlinecolor\":\"#2a3f5f\"},\"type\":\"carpet\"}],\"table\":[{\"cells\":{\"fill\":{\"color\":\"#EBF0F8\"},\"line\":{\"color\":\"white\"}},\"header\":{\"fill\":{\"color\":\"#C8D4E3\"},\"line\":{\"color\":\"white\"}},\"type\":\"table\"}],\"barpolar\":[{\"marker\":{\"line\":{\"color\":\"#E5ECF6\",\"width\":0.5},\"pattern\":{\"fillmode\":\"overlay\",\"size\":10,\"solidity\":0.2}},\"type\":\"barpolar\"}],\"pie\":[{\"automargin\":true,\"type\":\"pie\"}]},\"layout\":{\"autotypenumbers\":\"strict\",\"colorway\":[\"#636efa\",\"#EF553B\",\"#00cc96\",\"#ab63fa\",\"#FFA15A\",\"#19d3f3\",\"#FF6692\",\"#B6E880\",\"#FF97FF\",\"#FECB52\"],\"font\":{\"color\":\"#2a3f5f\"},\"hovermode\":\"closest\",\"hoverlabel\":{\"align\":\"left\"},\"paper_bgcolor\":\"white\",\"plot_bgcolor\":\"#E5ECF6\",\"polar\":{\"bgcolor\":\"#E5ECF6\",\"angularaxis\":{\"gridcolor\":\"white\",\"linecolor\":\"white\",\"ticks\":\"\"},\"radialaxis\":{\"gridcolor\":\"white\",\"linecolor\":\"white\",\"ticks\":\"\"}},\"ternary\":{\"bgcolor\":\"#E5ECF6\",\"aaxis\":{\"gridcolor\":\"white\",\"linecolor\":\"white\",\"ticks\":\"\"},\"baxis\":{\"gridcolor\":\"white\",\"linecolor\":\"white\",\"ticks\":\"\"},\"caxis\":{\"gridcolor\":\"white\",\"linecolor\":\"white\",\"ticks\":\"\"}},\"coloraxis\":{\"colorbar\":{\"outlinewidth\":0,\"ticks\":\"\"}},\"colorscale\":{\"sequential\":[[0.0,\"#0d0887\"],[0.1111111111111111,\"#46039f\"],[0.2222222222222222,\"#7201a8\"],[0.3333333333333333,\"#9c179e\"],[0.4444444444444444,\"#bd3786\"],[0.5555555555555556,\"#d8576b\"],[0.6666666666666666,\"#ed7953\"],[0.7777777777777778,\"#fb9f3a\"],[0.8888888888888888,\"#fdca26\"],[1.0,\"#f0f921\"]],\"sequentialminus\":[[0.0,\"#0d0887\"],[0.1111111111111111,\"#46039f\"],[0.2222222222222222,\"#7201a8\"],[0.3333333333333333,\"#9c179e\"],[0.4444444444444444,\"#bd3786\"],[0.5555555555555556,\"#d8576b\"],[0.6666666666666666,\"#ed7953\"],[0.7777777777777778,\"#fb9f3a\"],[0.8888888888888888,\"#fdca26\"],[1.0,\"#f0f921\"]],\"diverging\":[[0,\"#8e0152\"],[0.1,\"#c51b7d\"],[0.2,\"#de77ae\"],[0.3,\"#f1b6da\"],[0.4,\"#fde0ef\"],[0.5,\"#f7f7f7\"],[0.6,\"#e6f5d0\"],[0.7,\"#b8e186\"],[0.8,\"#7fbc41\"],[0.9,\"#4d9221\"],[1,\"#276419\"]]},\"xaxis\":{\"gridcolor\":\"white\",\"linecolor\":\"white\",\"ticks\":\"\",\"title\":{\"standoff\":15},\"zerolinecolor\":\"white\",\"automargin\":true,\"zerolinewidth\":2},\"yaxis\":{\"gridcolor\":\"white\",\"linecolor\":\"white\",\"ticks\":\"\",\"title\":{\"standoff\":15},\"zerolinecolor\":\"white\",\"automargin\":true,\"zerolinewidth\":2},\"scene\":{\"xaxis\":{\"backgroundcolor\":\"#E5ECF6\",\"gridcolor\":\"white\",\"linecolor\":\"white\",\"showbackground\":true,\"ticks\":\"\",\"zerolinecolor\":\"white\",\"gridwidth\":2},\"yaxis\":{\"backgroundcolor\":\"#E5ECF6\",\"gridcolor\":\"white\",\"linecolor\":\"white\",\"showbackground\":true,\"ticks\":\"\",\"zerolinecolor\":\"white\",\"gridwidth\":2},\"zaxis\":{\"backgroundcolor\":\"#E5ECF6\",\"gridcolor\":\"white\",\"linecolor\":\"white\",\"showbackground\":true,\"ticks\":\"\",\"zerolinecolor\":\"white\",\"gridwidth\":2}},\"shapedefaults\":{\"line\":{\"color\":\"#2a3f5f\"}},\"annotationdefaults\":{\"arrowcolor\":\"#2a3f5f\",\"arrowhead\":0,\"arrowwidth\":1},\"geo\":{\"bgcolor\":\"white\",\"landcolor\":\"#E5ECF6\",\"subunitcolor\":\"white\",\"showland\":true,\"showlakes\":true,\"lakecolor\":\"white\"},\"title\":{\"x\":0.05},\"mapbox\":{\"style\":\"light\"}}},\"xaxis\":{\"anchor\":\"y\",\"domain\":[0.0,1.0],\"title\":{\"text\":\"Category\"}},\"yaxis\":{\"anchor\":\"x\",\"domain\":[0.0,1.0],\"title\":{\"text\":\"Value\"}},\"legend\":{\"tracegroupgap\":0},\"title\":{\"text\":\"Bar Plot Example\"},\"barmode\":\"relative\"},                        {\"responsive\": true}                    ).then(function(){\n",
              "                            \n",
              "var gd = document.getElementById('c727394a-e904-477d-b5d5-772ff898eccf');\n",
              "var x = new MutationObserver(function (mutations, observer) {{\n",
              "        var display = window.getComputedStyle(gd).display;\n",
              "        if (!display || display === 'none') {{\n",
              "            console.log([gd, 'removed!']);\n",
              "            Plotly.purge(gd);\n",
              "            observer.disconnect();\n",
              "        }}\n",
              "}});\n",
              "\n",
              "// Listen for the removal of the full notebook cells\n",
              "var notebookContainer = gd.closest('#notebook-container');\n",
              "if (notebookContainer) {{\n",
              "    x.observe(notebookContainer, {childList: true});\n",
              "}}\n",
              "\n",
              "// Listen for the clearing of the current output cell\n",
              "var outputEl = gd.closest('.output');\n",
              "if (outputEl) {{\n",
              "    x.observe(outputEl, {childList: true});\n",
              "}}\n",
              "\n",
              "                        })                };                            </script>        </div>\n",
              "</body>\n",
              "</html>"
            ]
          },
          "metadata": {}
        }
      ]
    },
    {
      "cell_type": "code",
      "source": [
        "#6. Create a DataFrame and add a new column based on an existing column?\n",
        "import pandas as pd\n",
        "\n",
        "# Create a sample DataFrame\n",
        "data = {\n",
        "    'Name': ['Alice', 'Bob', 'Charlie', 'David'],\n",
        "    'Age': [25, 30, 35, 40],\n",
        "    'Salary': [50000, 60000, 70000, 80000]\n",
        "}\n",
        "\n",
        "df = pd.DataFrame(data)\n",
        "\n",
        "# Add a new column 'Age_in_5_years' based on the 'Age' column\n",
        "df['Age_in_5_years'] = df['Age'] + 5\n",
        "\n",
        "# Display the updated DataFrame\n",
        "print(df)\n"
      ],
      "metadata": {
        "colab": {
          "base_uri": "https://localhost:8080/"
        },
        "id": "_uFjv5nPr4N0",
        "outputId": "edcbf577-56d3-4eea-b3ea-1ce45bfa1c5b"
      },
      "execution_count": 6,
      "outputs": [
        {
          "output_type": "stream",
          "name": "stdout",
          "text": [
            "      Name  Age  Salary  Age_in_5_years\n",
            "0    Alice   25   50000              30\n",
            "1      Bob   30   60000              35\n",
            "2  Charlie   35   70000              40\n",
            "3    David   40   80000              45\n"
          ]
        }
      ]
    },
    {
      "cell_type": "code",
      "source": [
        "#7.Write a program to perform element-wise multiplication of two NumPy arrays?\n",
        "import numpy as np\n",
        "\n",
        "# Create two sample NumPy arrays\n",
        "array1 = np.array([1, 2, 3, 4])\n",
        "array2 = np.array([5, 6, 7, 8])\n",
        "\n",
        "# Perform element-wise multiplication\n",
        "result = array1 * array2\n",
        "\n",
        "# Display the result\n",
        "print(\"Result of element-wise multiplication:\", result)\n"
      ],
      "metadata": {
        "colab": {
          "base_uri": "https://localhost:8080/"
        },
        "id": "CHX2NBL_sDQN",
        "outputId": "5e2cc06f-0ab0-4bf1-d34c-c545f62aad91"
      },
      "execution_count": 7,
      "outputs": [
        {
          "output_type": "stream",
          "name": "stdout",
          "text": [
            "Result of element-wise multiplication: [ 5 12 21 32]\n"
          ]
        }
      ]
    },
    {
      "cell_type": "code",
      "source": [
        "#8.Create a line plot with multiple lines using Matplotlib?\n",
        "import matplotlib.pyplot as plt\n",
        "\n",
        "# Sample data for multiple lines\n",
        "x = [0, 1, 2, 3, 4, 5]\n",
        "y1 = [0, 1, 4, 9, 16, 25]  # y = x^2\n",
        "y2 = [0, 1, 2, 3, 4, 5]    # y = x\n",
        "y3 = [0, -1, -4, -9, -16, -25]  # y = -x^2\n",
        "\n",
        "# Create a line plot with multiple lines\n",
        "plt.plot(x, y1, label='y = x^2', color='r', marker='o')  # Red line with circle markers\n",
        "plt.plot(x, y2, label='y = x', color='g', linestyle='--')  # Green dashed line\n",
        "plt.plot(x, y3, label='y = -x^2', color='b', linestyle='-.')  # Blue dash-dot line\n",
        "\n",
        "# Add labels and title\n",
        "plt.xlabel('X-axis')\n",
        "plt.ylabel('Y-axis')\n",
        "plt.title('Line Plot with Multiple Lines')\n",
        "\n",
        "# Add a legend\n",
        "plt.legend()\n",
        "\n",
        "# Display the plot\n",
        "plt.show()\n"
      ],
      "metadata": {
        "colab": {
          "base_uri": "https://localhost:8080/",
          "height": 472
        },
        "id": "1h_pwn_ysMa8",
        "outputId": "ced4a579-2a2c-4ff5-cba3-162bbed7332e"
      },
      "execution_count": 8,
      "outputs": [
        {
          "output_type": "display_data",
          "data": {
            "text/plain": [
              "<Figure size 640x480 with 1 Axes>"
            ],
            "image/png": "[encoded data removed]"
          },
          "metadata": {}
        }
      ]
    },
    {
      "cell_type": "code",
      "source": [
        "#9.Generate a Pandas DataFrame and filter rows where a column value is greater than a threshold?\n",
        "import pandas as pd\n",
        "\n",
        "# Create a sample DataFrame\n",
        "data = {\n",
        "    'Name': ['Alice', 'Bob', 'Charlie', 'David', 'Eva'],\n",
        "    'Age': [25, 30, 35, 40, 45],\n",
        "    'Salary': [50000, 60000, 70000, 80000, 90000]\n",
        "}\n",
        "\n",
        "df = pd.DataFrame(data)\n",
        "\n",
        "# Set a threshold for the Salary column\n",
        "threshold = 65000\n",
        "\n",
        "# Filter rows where Salary is greater than the threshold\n",
        "filtered_df = df[df['Salary'] > threshold]\n",
        "\n",
        "# Display the filtered DataFrame\n",
        "print(filtered_df)\n"
      ],
      "metadata": {
        "colab": {
          "base_uri": "https://localhost:8080/"
        },
        "id": "_3TlqWuJsVrW",
        "outputId": "8db86817-b6e0-481a-ba18-8b98b3097bf3"
      },
      "execution_count": 9,
      "outputs": [
        {
          "output_type": "stream",
          "name": "stdout",
          "text": [
            "      Name  Age  Salary\n",
            "2  Charlie   35   70000\n",
            "3    David   40   80000\n",
            "4      Eva   45   90000\n"
          ]
        }
      ]
    },
    {
      "cell_type": "code",
      "source": [
        "#10.Create a histogram using Seaborn to visualize a distribution?\n",
        "import seaborn as sns\n",
        "import matplotlib.pyplot as plt\n",
        "\n",
        "# Sample data: A list of values\n",
        "data = [12, 15, 18, 22, 23, 23, 24, 25, 26, 28, 30, 30, 30, 32, 35, 36, 40, 42, 45, 50]\n",
        "\n",
        "# Create a Seaborn histogram\n",
        "sns.histplot(data, kde=False, bins=10, color='blue')\n",
        "\n",
        "# Adding labels and title\n",
        "plt.xlabel('Values')\n",
        "plt.ylabel('Frequency')\n",
        "plt.title('Histogram of Values')\n",
        "\n",
        "# Show the plot\n",
        "plt.show()\n"
      ],
      "metadata": {
        "colab": {
          "base_uri": "https://localhost:8080/",
          "height": 472
        },
        "id": "bCKh573GsglX",
        "outputId": "6dc260cc-2dd5-48cc-abd5-0f2821b59e74"
      },
      "execution_count": 10,
      "outputs": [
        {
          "output_type": "display_data",
          "data": {
            "text/plain": [
              "<Figure size 640x480 with 1 Axes>"
            ],
            "image/png": "[encoded data removed]"
          },
          "metadata": {}
        }
      ]
    },
    {
      "cell_type": "code",
      "source": [
        "#11.Perform matrix multiplication using NumPy?\n",
        "import numpy as np\n",
        "\n",
        "# Define two matrices\n",
        "matrix1 = np.array([[1, 2], [3, 4]])\n",
        "matrix2 = np.array([[5, 6], [7, 8]])\n",
        "\n",
        "# Perform matrix multiplication using np.dot()\n",
        "result = np.dot(matrix1, matrix2)\n",
        "\n",
        "# Alternatively, you can use the @ operator (Python 3.5+)\n",
        "# result = matrix1 @ matrix2\n",
        "\n",
        "# Display the result\n",
        "print(\"Matrix multiplication result:\\n\", result)\n"
      ],
      "metadata": {
        "colab": {
          "base_uri": "https://localhost:8080/"
        },
        "id": "jdrGInCts8sn",
        "outputId": "a8ea4275-6bdf-45e7-b5aa-d466d3e15708"
      },
      "execution_count": 11,
      "outputs": [
        {
          "output_type": "stream",
          "name": "stdout",
          "text": [
            "Matrix multiplication result:\n",
            " [[19 22]\n",
            " [43 50]]\n"
          ]
        }
      ]
    },
    {
      "cell_type": "code",
      "source": [
        "#12.Use Pandas to load a CSV file and display its first 5 rows?\n",
        "import pandas as pd\n",
        "\n",
        "# Sample data to write to CSV\n",
        "data = {\n",
        "    'Name': ['Alice', 'Bob', 'Charlie', 'David'],\n",
        "    'Age': [25, 30, 35, 40],\n",
        "    'Salary': [50000, 60000, 70000, 80000]\n",
        "}\n",
        "\n",
        "# Create a DataFrame from the data\n",
        "df = pd.DataFrame(data)\n",
        "\n",
        "# Save the DataFrame to a CSV file\n",
        "df.to_csv('sample_data.csv', index=False)\n",
        "\n",
        "print(\"CSV file 'sample_data.csv' has been created.\")\n"
      ],
      "metadata": {
        "colab": {
          "base_uri": "https://localhost:8080/"
        },
        "id": "_beLg8VhtZGr",
        "outputId": "5611fa13-7153-495e-c86b-6c532ba77e97"
      },
      "execution_count": 12,
      "outputs": [
        {
          "output_type": "stream",
          "name": "stdout",
          "text": [
            "CSV file 'sample_data.csv' has been created.\n"
          ]
        }
      ]
    },
    {
      "cell_type": "code",
      "source": [
        "#13.Create a 3D scatter plot using Plotly?\n",
        "import plotly.express as px\n",
        "import pandas as pd\n",
        "import numpy as np\n",
        "\n",
        "# Create a DataFrame with random data for x, y, and z coordinates\n",
        "data = pd.DataFrame({\n",
        "    'x': np.random.rand(100),\n",
        "    'y': np.random.rand(100),\n",
        "    'z': np.random.rand(100),\n",
        "    'color': np.random.rand(100)  # Optional: For color coding\n",
        "})\n",
        "\n",
        "# Create a 3D scatter plot\n",
        "fig = px.scatter_3d(data, x='x', y='y', z='z', color='color', title=\"3D Scatter Plot Example\")\n",
        "\n",
        "# Show the plot\n",
        "fig.show()\n"
      ],
      "metadata": {
        "colab": {
          "base_uri": "https://localhost:8080/",
          "height": 542
        },
        "id": "hFq4JeZ0txQB",
        "outputId": "4ec8add3-4135-48fa-afec-e54e9f2bee08"
      },
      "execution_count": 13,
      "outputs": [
        {
          "output_type": "display_data",
          "data": {
            "text/html": [
              "<html>\n",
              "<head><meta charset=\"utf-8\" /></head>\n",
              "<body>\n",
              "    <div>            <script src=\"https://cdnjs.cloudflare.com/ajax/libs/mathjax/2.7.5/MathJax.js?config=TeX-AMS-MML_SVG\"></script><script type=\"text/javascript\">if (window.MathJax && window.MathJax.Hub && window.MathJax.Hub.Config) {window.MathJax.Hub.Config({SVG: {font: \"STIX-Web\"}});}</script>                <script type=\"text/javascript\">window.PlotlyConfig = {MathJaxConfig: 'local'};</script>\n",
              "        <script charset=\"utf-8\" src=\"https://cdn.plot.ly/plotly-2.35.2.min.js\"></script>                <div id=\"a6742820-6e9e-451c-b071-cbff55debe94\" class=\"plotly-graph-div\" style=\"height:525px; width:100%;\"></div>            <script type=\"text/javascript\">                                    window.PLOTLYENV=window.PLOTLYENV || {};                                    if (document.getElementById(\"a6742820-6e9e-451c-b071-cbff55debe94\")) {                    Plotly.newPlot(                        \"a6742820-6e9e-451c-b071-cbff55debe94\",                        [{\"hovertemplate\":\"x=%{x}\\u003cbr\\u003ey=%{y}\\u003cbr\\u003ez=%{z}\\u003cbr\\u003ecolor=%{marker.color}\\u003cextra\\u003e\\u003c\\u002fextra\\u003e\",\"legendgroup\":\"\",\"marker\":{\"color\":[0.3298478737075917,0.10152690806242426,0.6009114730969347,0.7857402245156996,0.7064271785190444,0.7872267856592825,0.5627504072825265,0.19477654310135073,0.5741406405014049,0.9527355197144571,0.26678344424147116,0.2975183661376304,0.5963362105822264,0.9796664525633307,0.8755761653365627,0.42997738343042813,0.08436332234461175,0.4587879774470628,0.6864074509728406,0.5206680576715463,0.4787492589325095,0.9904550605035213,0.9637099713293293,0.22339128397085606,0.14889137447843515,0.3567135269866962,0.8578430728239212,0.6602324810863645,0.9654410329366064,0.815798710021497,0.6323668832017205,0.9164530315065751,0.7216524583842192,0.7148362317750967,0.8168878913377087,0.3143813561973037,0.6216897053820505,0.17394547718903497,0.6587973653696659,0.8023086945157618,0.2198445048764276,0.12308239999816195,0.4682442190346957,0.45376159269101424,0.3083193543765784,0.10579311108135103,0.09277324971913925,0.7589562631550959,0.03465428889044253,0.19074615169209552,0.6425192077977865,0.0015195351708237048,0.7545029135625336,0.6912996924881475,0.9706726666990964,0.582860562813257,0.4141553031935369,0.16113104664881805,0.9822299399284641,0.5871350832020928,0.1301405345702752,0.8084968773494008,0.44392826626219783,0.7400424238617803,0.5509548746878736,0.05990946950918097,0.1224422836232808,0.3730616762634613,0.5929224902100841,0.46470668972897666,0.5845718057070343,0.6601287915396638,0.472068154009583,0.3491923720714022,0.9527798419867234,0.8338746665840319,0.7381717159132893,0.12428926007279462,0.1812600240106974,0.8513433272808852,0.9166208311113815,0.02435690579035943,0.00719599946885352,0.4559508913659268,0.8747464595426159,0.5626169725647882,0.18634604404167665,0.6888228286130099,0.5187008539559015,0.46021496484304325,0.9520620562804133,0.12482069142262031,0.9340367494182311,0.8007901179153853,0.11349302408862061,0.9451956882408044,0.7360810794719879,0.20948638071178138,0.5961970335112728,0.3568812175997955],\"coloraxis\":\"coloraxis\",\"symbol\":\"circle\"},\"mode\":\"markers\",\"name\":\"\",\"scene\":\"scene\",\"showlegend\":false,\"x\":[0.1739145529592352,0.5825837497899673,0.716263329461169,0.08642047412285314,0.34228236579290416,0.3815661940130136,0.4568797442040421,0.9549236322319675,0.6181062691146292,0.8666992423698429,0.07187665965084267,0.959636292878086,0.08198387578870214,0.835890095567535,0.5216198324961286,0.3063104966767455,0.3315672649311855,0.4150146631809164,0.44955726888868375,0.6685041967199652,0.45626268514192037,0.917396662063216,0.8543075362078785,0.3929718846857413,0.5842258382689676,0.38631023933898845,0.5096524192031442,0.0872277690786667,0.8078917522439043,0.9872133771143295,0.23390024347960026,0.3057283899180364,0.7488217473142682,0.2579238238569874,0.11833475078186839,0.7073886003477637,0.7146910988725732,0.2332213267247183,0.3151790640203056,0.32948592082834816,0.8683370382075061,0.1605087453338745,0.9766644629015624,0.8847226551345406,0.019583619696614374,0.4362821172972394,0.17801879455918723,0.4871361493601869,0.49074429602086334,0.3867297171939449,0.6805991332042183,0.3768909043252918,0.9932786330815108,0.30607219977548417,0.8569333010967523,0.6114633560746576,0.19864079586975913,0.7933414227135283,0.8108912391718568,0.5311372539542591,0.4046966319159787,0.004597887797318734,0.6115484920218449,0.11607661648626921,0.8874784611895546,0.8233436620105771,0.12416507132831689,0.03580815369822554,0.610773071692249,0.34338542299340535,0.06561014294330259,0.4383869273106862,0.5219645901871128,0.1193207322265859,0.14494740505028436,0.5191019616726427,0.8444547785592368,0.06465617465950146,0.37594624722209424,0.6922149419795293,0.07516111186033525,0.9975756289191743,0.9268657819024416,0.7737400003646374,0.9773320711678003,0.2463891944774541,0.9048459490049707,0.28114551123883336,0.46640435246335465,0.8687333660977012,0.7548069181629455,0.957445794114981,0.8365516758079748,0.453199770644409,0.14168942119500727,0.19368893503774887,0.7588222889852217,0.8097454868026147,0.7371159425515642,0.5797441802281309],\"y\":[0.6383258738293269,0.599670160240299,0.6523471282932884,0.8156370752814583,0.7052670206425433,0.8977501586082653,0.8933092468810571,0.6583522765695686,0.15205530651015442,0.28677952258864536,0.7409713370667284,0.287758815142765,0.1317648234611839,0.09809503764533156,0.3243569350938659,0.787395790328294,0.9941926746122495,0.7205363026845679,0.4139957139374396,0.5455701266610811,0.059169841891899666,0.9638035204673404,0.5255349833464089,0.9063622761429012,0.11639302391215245,0.6587123477160631,0.4780643142647475,0.39547417804447127,0.10387504350496368,0.4324476542010681,0.45862374816005624,0.26576850271669594,0.7138995757991055,0.40400751258428336,0.251577248058796,0.4915655931730314,0.9017060630344034,0.13009762036545014,0.30631779648825475,0.4803670251685912,0.27412792054005963,0.7393374451656239,0.16150026322831157,0.3401613483124768,0.42445343111047207,0.9086560787437015,0.1457524950660707,0.37737706569412355,0.11830856410342006,0.519277605249039,0.22278356998561866,0.1721298637978801,0.595747371108562,0.4612741156612644,0.06781039424858071,0.21396412188111325,0.8803684606509372,0.6939298934520741,0.17463019302509575,0.9923262275121121,0.9721148262113672,0.26095019244311346,0.010127793436026211,0.08295047622238849,0.44852163143261936,0.01768489035848031,0.4471352335565211,0.22160553746512723,0.24038889305356226,0.9638156486790731,0.3500800989744641,0.5453232942471412,0.47156605802687024,0.19011914727513934,0.4423752767745749,0.7623460086090401,0.07679341749351243,0.2048798095246347,0.17573314878116797,0.21247242578877457,0.10228385618819913,0.20063035848593003,0.6229017256115659,0.3034090317305308,0.09745276333244512,0.6176823315488156,0.8028422907766835,0.38100630745571773,0.30895334523350726,0.7458444756294508,0.7012430217605131,0.7223833442123558,0.5273628855733511,0.010072529093816507,0.11627427133361978,0.063558681661539,0.3318053010798768,0.6362565139398211,0.8682601782673756,0.7700716975366555],\"z\":[0.14757650986459891,0.2826671173002623,0.8653637323298499,0.5773391862910364,0.9942973894468491,0.17492284280290527,0.0355406665008865,0.50851570547989,0.8643372010893402,0.5555041977675773,0.41112855213564004,0.4155317646344989,0.7969341647700948,0.29495045876907466,0.26864562959108973,0.12103052998677011,0.9050127275393466,0.5070672719888301,0.008920986689174182,0.6219874886708031,0.2452435086380499,0.8023143587774572,0.23837914862841425,0.2004248072883522,0.5949339841793772,0.8574896526682168,0.2591358347108166,0.38276682122486017,0.49189653214477247,0.812550963125506,0.013698373075265113,0.686090469274725,0.6740128849353996,0.24405668500800104,0.02775398736455481,0.36633476654393826,0.5797347576054833,0.8522408728593334,0.8864468919812315,0.051910414758877255,0.8238072150331821,0.3826939484115208,0.1021452018809621,0.5010666968899874,0.7139715379679638,0.3920541024453672,0.4539949344311085,0.47598096385266886,0.8110742391066691,0.18841648723638238,0.9071489388344345,0.626941364588346,0.4391547122110523,0.7878447315839512,0.7655296599529109,0.9011384981025299,0.4325123761264831,0.952532377691283,0.03288227863920634,0.2080180366651032,0.6998943482277792,0.8082292869137007,0.12570816344027302,0.5587424644569724,0.579415646615589,0.2704491002555999,0.08933306142314323,0.2869775117372042,0.5597285939881947,0.49321335904751384,0.6194693613407732,0.7483675428511654,0.3988149202862562,0.773652577351976,0.39787917646633986,0.684806692888898,0.6016394980359657,0.06893821093290697,0.35153934478200544,0.7244563224840949,0.6627183340479137,0.5051903566476157,0.6030492324925996,0.019010614529507808,0.29299196694867347,0.14196102795372068,0.15337876250494964,0.8774733430889246,0.4920048035663863,0.8617475424216754,0.5980051110684412,0.22477070796395604,0.6983702913135446,0.8793220085983825,0.8154841000835434,0.4251430934663527,0.9262690225848595,0.06138612967199286,0.005622310921948426,0.3684557977162115],\"type\":\"scatter3d\"}],                        {\"template\":{\"data\":{\"histogram2dcontour\":[{\"type\":\"histogram2dcontour\",\"colorbar\":{\"outlinewidth\":0,\"ticks\":\"\"},\"colorscale\":[[0.0,\"#0d0887\"],[0.1111111111111111,\"#46039f\"],[0.2222222222222222,\"#7201a8\"],[0.3333333333333333,\"#9c179e\"],[0.4444444444444444,\"#bd3786\"],[0.5555555555555556,\"#d8576b\"],[0.6666666666666666,\"#ed7953\"],[0.7777777777777778,\"#fb9f3a\"],[0.8888888888888888,\"#fdca26\"],[1.0,\"#f0f921\"]]}],\"choropleth\":[{\"type\":\"choropleth\",\"colorbar\":{\"outlinewidth\":0,\"ticks\":\"\"}}],\"histogram2d\":[{\"type\":\"histogram2d\",\"colorbar\":{\"outlinewidth\":0,\"ticks\":\"\"},\"colorscale\":[[0.0,\"#0d0887\"],[0.1111111111111111,\"#46039f\"],[0.2222222222222222,\"#7201a8\"],[0.3333333333333333,\"#9c179e\"],[0.4444444444444444,\"#bd3786\"],[0.5555555555555556,\"#d8576b\"],[0.6666666666666666,\"#ed7953\"],[0.7777777777777778,\"#fb9f3a\"],[0.8888888888888888,\"#fdca26\"],[1.0,\"#f0f921\"]]}],\"heatmap\":[{\"type\":\"heatmap\",\"colorbar\":{\"outlinewidth\":0,\"ticks\":\"\"},\"colorscale\":[[0.0,\"#0d0887\"],[0.1111111111111111,\"#46039f\"],[0.2222222222222222,\"#7201a8\"],[0.3333333333333333,\"#9c179e\"],[0.4444444444444444,\"#bd3786\"],[0.5555555555555556,\"#d8576b\"],[0.6666666666666666,\"#ed7953\"],[0.7777777777777778,\"#fb9f3a\"],[0.8888888888888888,\"#fdca26\"],[1.0,\"#f0f921\"]]}],\"heatmapgl\":[{\"type\":\"heatmapgl\",\"colorbar\":{\"outlinewidth\":0,\"ticks\":\"\"},\"colorscale\":[[0.0,\"#0d0887\"],[0.1111111111111111,\"#46039f\"],[0.2222222222222222,\"#7201a8\"],[0.3333333333333333,\"#9c179e\"],[0.4444444444444444,\"#bd3786\"],[0.5555555555555556,\"#d8576b\"],[0.6666666666666666,\"#ed7953\"],[0.7777777777777778,\"#fb9f3a\"],[0.8888888888888888,\"#fdca26\"],[1.0,\"#f0f921\"]]}],\"contourcarpet\":[{\"type\":\"contourcarpet\",\"colorbar\":{\"outlinewidth\":0,\"ticks\":\"\"}}],\"contour\":[{\"type\":\"contour\",\"colorbar\":{\"outlinewidth\":0,\"ticks\":\"\"},\"colorscale\":[[0.0,\"#0d0887\"],[0.1111111111111111,\"#46039f\"],[0.2222222222222222,\"#7201a8\"],[0.3333333333333333,\"#9c179e\"],[0.4444444444444444,\"#bd3786\"],[0.5555555555555556,\"#d8576b\"],[0.6666666666666666,\"#ed7953\"],[0.7777777777777778,\"#fb9f3a\"],[0.8888888888888888,\"#fdca26\"],[1.0,\"#f0f921\"]]}],\"surface\":[{\"type\":\"surface\",\"colorbar\":{\"outlinewidth\":0,\"ticks\":\"\"},\"colorscale\":[[0.0,\"#0d0887\"],[0.1111111111111111,\"#46039f\"],[0.2222222222222222,\"#7201a8\"],[0.3333333333333333,\"#9c179e\"],[0.4444444444444444,\"#bd3786\"],[0.5555555555555556,\"#d8576b\"],[0.6666666666666666,\"#ed7953\"],[0.7777777777777778,\"#fb9f3a\"],[0.8888888888888888,\"#fdca26\"],[1.0,\"#f0f921\"]]}],\"mesh3d\":[{\"type\":\"mesh3d\",\"colorbar\":{\"outlinewidth\":0,\"ticks\":\"\"}}],\"scatter\":[{\"fillpattern\":{\"fillmode\":\"overlay\",\"size\":10,\"solidity\":0.2},\"type\":\"scatter\"}],\"parcoords\":[{\"type\":\"parcoords\",\"line\":{\"colorbar\":{\"outlinewidth\":0,\"ticks\":\"\"}}}],\"scatterpolargl\":[{\"type\":\"scatterpolargl\",\"marker\":{\"colorbar\":{\"outlinewidth\":0,\"ticks\":\"\"}}}],\"bar\":[{\"error_x\":{\"color\":\"#2a3f5f\"},\"error_y\":{\"color\":\"#2a3f5f\"},\"marker\":{\"line\":{\"color\":\"#E5ECF6\",\"width\":0.5},\"pattern\":{\"fillmode\":\"overlay\",\"size\":10,\"solidity\":0.2}},\"type\":\"bar\"}],\"scattergeo\":[{\"type\":\"scattergeo\",\"marker\":{\"colorbar\":{\"outlinewidth\":0,\"ticks\":\"\"}}}],\"scatterpolar\":[{\"type\":\"scatterpolar\",\"marker\":{\"colorbar\":{\"outlinewidth\":0,\"ticks\":\"\"}}}],\"histogram\":[{\"marker\":{\"pattern\":{\"fillmode\":\"overlay\",\"size\":10,\"solidity\":0.2}},\"type\":\"histogram\"}],\"scattergl\":[{\"type\":\"scattergl\",\"marker\":{\"colorbar\":{\"outlinewidth\":0,\"ticks\":\"\"}}}],\"scatter3d\":[{\"type\":\"scatter3d\",\"line\":{\"colorbar\":{\"outlinewidth\":0,\"ticks\":\"\"}},\"marker\":{\"colorbar\":{\"outlinewidth\":0,\"ticks\":\"\"}}}],\"scattermapbox\":[{\"type\":\"scattermapbox\",\"marker\":{\"colorbar\":{\"outlinewidth\":0,\"ticks\":\"\"}}}],\"scatterternary\":[{\"type\":\"scatterternary\",\"marker\":{\"colorbar\":{\"outlinewidth\":0,\"ticks\":\"\"}}}],\"scattercarpet\":[{\"type\":\"scattercarpet\",\"marker\":{\"colorbar\":{\"outlinewidth\":0,\"ticks\":\"\"}}}],\"carpet\":[{\"aaxis\":{\"endlinecolor\":\"#2a3f5f\",\"gridcolor\":\"white\",\"linecolor\":\"white\",\"minorgridcolor\":\"white\",\"startlinecolor\":\"#2a3f5f\"},\"baxis\":{\"endlinecolor\":\"#2a3f5f\",\"gridcolor\":\"white\",\"linecolor\":\"white\",\"minorgridcolor\":\"white\",\"startlinecolor\":\"#2a3f5f\"},\"type\":\"carpet\"}],\"table\":[{\"cells\":{\"fill\":{\"color\":\"#EBF0F8\"},\"line\":{\"color\":\"white\"}},\"header\":{\"fill\":{\"color\":\"#C8D4E3\"},\"line\":{\"color\":\"white\"}},\"type\":\"table\"}],\"barpolar\":[{\"marker\":{\"line\":{\"color\":\"#E5ECF6\",\"width\":0.5},\"pattern\":{\"fillmode\":\"overlay\",\"size\":10,\"solidity\":0.2}},\"type\":\"barpolar\"}],\"pie\":[{\"automargin\":true,\"type\":\"pie\"}]},\"layout\":{\"autotypenumbers\":\"strict\",\"colorway\":[\"#636efa\",\"#EF553B\",\"#00cc96\",\"#ab63fa\",\"#FFA15A\",\"#19d3f3\",\"#FF6692\",\"#B6E880\",\"#FF97FF\",\"#FECB52\"],\"font\":{\"color\":\"#2a3f5f\"},\"hovermode\":\"closest\",\"hoverlabel\":{\"align\":\"left\"},\"paper_bgcolor\":\"white\",\"plot_bgcolor\":\"#E5ECF6\",\"polar\":{\"bgcolor\":\"#E5ECF6\",\"angularaxis\":{\"gridcolor\":\"white\",\"linecolor\":\"white\",\"ticks\":\"\"},\"radialaxis\":{\"gridcolor\":\"white\",\"linecolor\":\"white\",\"ticks\":\"\"}},\"ternary\":{\"bgcolor\":\"#E5ECF6\",\"aaxis\":{\"gridcolor\":\"white\",\"linecolor\":\"white\",\"ticks\":\"\"},\"baxis\":{\"gridcolor\":\"white\",\"linecolor\":\"white\",\"ticks\":\"\"},\"caxis\":{\"gridcolor\":\"white\",\"linecolor\":\"white\",\"ticks\":\"\"}},\"coloraxis\":{\"colorbar\":{\"outlinewidth\":0,\"ticks\":\"\"}},\"colorscale\":{\"sequential\":[[0.0,\"#0d0887\"],[0.1111111111111111,\"#46039f\"],[0.2222222222222222,\"#7201a8\"],[0.3333333333333333,\"#9c179e\"],[0.4444444444444444,\"#bd3786\"],[0.5555555555555556,\"#d8576b\"],[0.6666666666666666,\"#ed7953\"],[0.7777777777777778,\"#fb9f3a\"],[0.8888888888888888,\"#fdca26\"],[1.0,\"#f0f921\"]],\"sequentialminus\":[[0.0,\"#0d0887\"],[0.1111111111111111,\"#46039f\"],[0.2222222222222222,\"#7201a8\"],[0.3333333333333333,\"#9c179e\"],[0.4444444444444444,\"#bd3786\"],[0.5555555555555556,\"#d8576b\"],[0.6666666666666666,\"#ed7953\"],[0.7777777777777778,\"#fb9f3a\"],[0.8888888888888888,\"#fdca26\"],[1.0,\"#f0f921\"]],\"diverging\":[[0,\"#8e0152\"],[0.1,\"#c51b7d\"],[0.2,\"#de77ae\"],[0.3,\"#f1b6da\"],[0.4,\"#fde0ef\"],[0.5,\"#f7f7f7\"],[0.6,\"#e6f5d0\"],[0.7,\"#b8e186\"],[0.8,\"#7fbc41\"],[0.9,\"#4d9221\"],[1,\"#276419\"]]},\"xaxis\":{\"gridcolor\":\"white\",\"linecolor\":\"white\",\"ticks\":\"\",\"title\":{\"standoff\":15},\"zerolinecolor\":\"white\",\"automargin\":true,\"zerolinewidth\":2},\"yaxis\":{\"gridcolor\":\"white\",\"linecolor\":\"white\",\"ticks\":\"\",\"title\":{\"standoff\":15},\"zerolinecolor\":\"white\",\"automargin\":true,\"zerolinewidth\":2},\"scene\":{\"xaxis\":{\"backgroundcolor\":\"#E5ECF6\",\"gridcolor\":\"white\",\"linecolor\":\"white\",\"showbackground\":true,\"ticks\":\"\",\"zerolinecolor\":\"white\",\"gridwidth\":2},\"yaxis\":{\"backgroundcolor\":\"#E5ECF6\",\"gridcolor\":\"white\",\"linecolor\":\"white\",\"showbackground\":true,\"ticks\":\"\",\"zerolinecolor\":\"white\",\"gridwidth\":2},\"zaxis\":{\"backgroundcolor\":\"#E5ECF6\",\"gridcolor\":\"white\",\"linecolor\":\"white\",\"showbackground\":true,\"ticks\":\"\",\"zerolinecolor\":\"white\",\"gridwidth\":2}},\"shapedefaults\":{\"line\":{\"color\":\"#2a3f5f\"}},\"annotationdefaults\":{\"arrowcolor\":\"#2a3f5f\",\"arrowhead\":0,\"arrowwidth\":1},\"geo\":{\"bgcolor\":\"white\",\"landcolor\":\"#E5ECF6\",\"subunitcolor\":\"white\",\"showland\":true,\"showlakes\":true,\"lakecolor\":\"white\"},\"title\":{\"x\":0.05},\"mapbox\":{\"style\":\"light\"}}},\"scene\":{\"domain\":{\"x\":[0.0,1.0],\"y\":[0.0,1.0]},\"xaxis\":{\"title\":{\"text\":\"x\"}},\"yaxis\":{\"title\":{\"text\":\"y\"}},\"zaxis\":{\"title\":{\"text\":\"z\"}}},\"coloraxis\":{\"colorbar\":{\"title\":{\"text\":\"color\"}},\"colorscale\":[[0.0,\"#0d0887\"],[0.1111111111111111,\"#46039f\"],[0.2222222222222222,\"#7201a8\"],[0.3333333333333333,\"#9c179e\"],[0.4444444444444444,\"#bd3786\"],[0.5555555555555556,\"#d8576b\"],[0.6666666666666666,\"#ed7953\"],[0.7777777777777778,\"#fb9f3a\"],[0.8888888888888888,\"#fdca26\"],[1.0,\"#f0f921\"]]},\"legend\":{\"tracegroupgap\":0},\"title\":{\"text\":\"3D Scatter Plot Example\"}},                        {\"responsive\": true}                    ).then(function(){\n",
              "                            \n",
              "var gd = document.getElementById('a6742820-6e9e-451c-b071-cbff55debe94');\n",
              "var x = new MutationObserver(function (mutations, observer) {{\n",
              "        var display = window.getComputedStyle(gd).display;\n",
              "        if (!display || display === 'none') {{\n",
              "            console.log([gd, 'removed!']);\n",
              "            Plotly.purge(gd);\n",
              "            observer.disconnect();\n",
              "        }}\n",
              "}});\n",
              "\n",
              "// Listen for the removal of the full notebook cells\n",
              "var notebookContainer = gd.closest('#notebook-container');\n",
              "if (notebookContainer) {{\n",
              "    x.observe(notebookContainer, {childList: true});\n",
              "}}\n",
              "\n",
              "// Listen for the clearing of the current output cell\n",
              "var outputEl = gd.closest('.output');\n",
              "if (outputEl) {{\n",
              "    x.observe(outputEl, {childList: true});\n",
              "}}\n",
              "\n",
              "                        })                };                            </script>        </div>\n",
              "</body>\n",
              "</html>"
            ]
          },
          "metadata": {}
        }
      ]
    },
    {
      "cell_type": "markdown",
      "source": [],
      "metadata": {
        "id": "Y-sjIZ_Cms1R"
      }
    },
    {
      "cell_type": "code",
      "execution_count": null,
      "metadata": {
        "id": "8sS14NsRlUAU"
      },
      "outputs": [],
      "source": []
    },
    {
      "cell_type": "markdown",
      "source": [],
      "metadata": {
        "id": "U5LGqDSDlVdu"
      }
    }
  ]
}